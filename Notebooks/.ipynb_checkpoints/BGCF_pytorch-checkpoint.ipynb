{
 "cells": [
  {
   "cell_type": "code",
   "execution_count": 136,
   "id": "277c185d",
   "metadata": {
    "scrolled": true
   },
   "outputs": [
    {
     "data": {
      "text/plain": [
       "[0, 1, 2, 3, 7, 0, 6, 8, 8, 9]"
      ]
     },
     "execution_count": 136,
     "metadata": {},
     "output_type": "execute_result"
    }
   ],
   "source": [
    "import torch\n",
    "import torch.nn as nn\n",
    "import torch.nn.functional as F\n",
    "import pandas as pd\n",
    "import os\n",
    "import re\n",
    "import numpy as np\n",
    "from copy import deepcopy\n",
    "import random\n",
    "\n",
    "# directory = '../MF/ml-1m'\n",
    "# ratings = []\n",
    "# with open(os.path.join(directory, 'ratings.dat'), encoding='latin1') as f:\n",
    "#     for l in f:\n",
    "#         user_id, movie_id, rating, timestamp = [int(_) for _ in l.split('::')]\n",
    "#         ratings.append({\n",
    "#             'user_id': user_id,\n",
    "#             'movie_id': movie_id,\n",
    "#             'rating': rating,\n",
    "#             'timestamp': timestamp,\n",
    "#             })\n",
    "# ratings = pd.DataFrame(ratings)\n",
    "\n",
    "# ratings = ratings.drop(['timestamp'],axis=1)\n",
    "# print(ratings)\n",
    "# # 어떤 비율로 표본 추출을 하고싶은지 df.sample에서 frac을 0~1 사이로 설정\n",
    "# df = ratings.sample(frac=1).reset_index(drop=True)\n",
    "# filter_user = deepcopy(df)\n",
    "# counts = filter_user['user_id'].value_counts()\n",
    "# filter_user = filter_user[filter_user['user_id'].isin(counts[counts >= 10].index)]\n",
    "\n",
    "# filtered_df = deepcopy(filter_user)\n",
    "# counts = filtered_df['movie_id'].value_counts()\n",
    "# filtered_df = filtered_df[filtered_df['movie_id'].isin(counts[counts >=10].index)]\n",
    "# filtered_df = filtered_df.reset_index(drop=True)\n",
    "# print(filtered_df)\n",
    "\n",
    "\n",
    "neighbor_dict = {}\n",
    "user = []\n",
    "item = []\n",
    "\n",
    "with open('../NGCF-PyTorch/Data/ml-1m/train.txt', 'r') as f:\n",
    "    for l in f.readlines():\n",
    "        if len(l) > 0:\n",
    "            l = l.strip('\\n').split(' ')\n",
    "            neighbor_dict[int(l[0])] = [int(i) for i in l[1:]]\n",
    "            user.append(int(l[0]))\n",
    "\n",
    "def jaccard_index(u_i, u_j, neighbor_dict):\n",
    "    u_i_neighbor = neighbor_dict[u_i]\n",
    "    u_j_neighbor = neighbor_dict[u_j]\n",
    "    return len(list(set(u_i_neighbor) & set(u_j_neighbor))) / len(list(set(u_i_neighbor) | set(u_j_neighbor)))\n",
    "\n",
    "# 새로운 graph의 node j 에다가 기존 graph의 어떤 node의 neighborhood를 복사할지 zeta에 담기\n",
    "def node_copying(user):\n",
    "    zeta = []\n",
    "    for u_j in user:\n",
    "        nor = 0\n",
    "        zeta_distribution = []\n",
    "        for u_i in user:\n",
    "            nor+=jaccard_index(u_j, u_i, neighbor_dict)\n",
    "        for u_m in user:\n",
    "            zeta_distribution.append(jaccard_index(u_j, u_m, neighbor_dict) / nor)\n",
    "        zeta.append(random.choices(user, weights=zeta_distribution)[0])\n",
    "    return zeta\n",
    "\n",
    "# zeta = node_copying(user)"
   ]
  },
  {
   "cell_type": "code",
   "execution_count": 135,
   "id": "70a74898",
   "metadata": {},
   "outputs": [],
   "source": [
    "# node_copying 함수로 zeta를 구한 후 인자로 사용\n",
    "# epoch만큼 graph generate\n",
    "def generate_graph(user, zeta, neighbor_dict, epsilon):\n",
    "    generated_node = []\n",
    "    sampled_graph = dict()\n",
    "    for i in user:\n",
    "        if random.uniform(0,1) < 1-epsilon:  # 1-epsilon의 확률로 원래 neighbor 넣기\n",
    "            generated_node.append(i)\n",
    "        else:                                # epsilon의 확률로 zeta에 있는 node의 neighbor로 copy해서 넣기\n",
    "            generated_node.append(zeta[i])\n",
    "        sampled_graph[i] = neighbor_dict[generated_node[i]]\n",
    "    return sampled_graph\n",
    "    \n",
    "# sampled_graph = generate_graph(user, zeta, neighbor_dict, 0.2)"
   ]
  },
  {
   "cell_type": "code",
   "execution_count": null,
   "id": "aeacc875",
   "metadata": {},
   "outputs": [],
   "source": [
    "# GAT\n",
    "# 만들어지는 graph마다 embedding 초기화 \n",
    "# embedding 학습하는 GNN 구조 짜기\n",
    "# 학습된 embedding 가지고 x_hat (eq.11) 구하고 BPR-OPT를 maximization 시키는 방향으로 학습"
   ]
  },
  {
   "cell_type": "code",
   "execution_count": null,
   "id": "07c86173",
   "metadata": {},
   "outputs": [],
   "source": []
  }
 ],
 "metadata": {
  "kernelspec": {
   "display_name": "Python 3",
   "language": "python",
   "name": "python3"
  },
  "language_info": {
   "codemirror_mode": {
    "name": "ipython",
    "version": 3
   },
   "file_extension": ".py",
   "mimetype": "text/x-python",
   "name": "python",
   "nbconvert_exporter": "python",
   "pygments_lexer": "ipython3",
   "version": "3.8.8"
  }
 },
 "nbformat": 4,
 "nbformat_minor": 5
}
