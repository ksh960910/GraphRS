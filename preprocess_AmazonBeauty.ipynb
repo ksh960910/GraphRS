{
 "cells": [
  {
   "cell_type": "code",
   "execution_count": 1,
   "id": "62f9ccb7",
   "metadata": {},
   "outputs": [
    {
     "name": "stderr",
     "output_type": "stream",
     "text": [
      "Using backend: pytorch\n"
     ]
    }
   ],
   "source": [
    "# built-in imports\n",
    "import os\n",
    "import re\n",
    "import argparse\n",
    "import pickle\n",
    "import sys\n",
    "\n",
    "# third-party imports\n",
    "import pandas as pd\n",
    "import numpy as np\n",
    "import scipy.sparse as ssp\n",
    "import dgl\n",
    "import torch\n",
    "import torchtext\n",
    "\n",
    "# local imports\n",
    "sys.path.insert(0, '../src/pinsage')\n",
    "from builder import PandasGraphBuilder\n",
    "from data_utils import *"
   ]
  },
  {
   "cell_type": "code",
   "execution_count": 3,
   "id": "ec39708f",
   "metadata": {},
   "outputs": [],
   "source": [
    "# get directory of data files\n",
    "directory = './amazon_beauty'\n",
    "# get output file path\n",
    "output_path = '../pinsage/processed_beauty.pkl'"
   ]
  },
  {
   "cell_type": "code",
   "execution_count": 6,
   "id": "7702a5cb",
   "metadata": {},
   "outputs": [
    {
     "name": "stdout",
     "output_type": "stream",
     "text": [
      "(2023070, 4)\n"
     ]
    },
    {
     "data": {
      "text/plain": [
       "UserId        object\n",
       "ProductId     object\n",
       "Rating       float64\n",
       "Timestamp      int64\n",
       "dtype: object"
      ]
     },
     "execution_count": 6,
     "metadata": {},
     "output_type": "execute_result"
    }
   ],
   "source": [
    "# Read amazon beauty dataset\n",
    "amazon = pd.read_csv('./amazon_beauty/ratings_Beauty.csv')\n",
    "print(amazon.shape)\n",
    "amazon.dtypes"
   ]
  },
  {
   "cell_type": "code",
   "execution_count": 18,
   "id": "e47dea1e",
   "metadata": {},
   "outputs": [
    {
     "data": {
      "text/html": [
       "<div>\n",
       "<style scoped>\n",
       "    .dataframe tbody tr th:only-of-type {\n",
       "        vertical-align: middle;\n",
       "    }\n",
       "\n",
       "    .dataframe tbody tr th {\n",
       "        vertical-align: top;\n",
       "    }\n",
       "\n",
       "    .dataframe thead th {\n",
       "        text-align: right;\n",
       "    }\n",
       "</style>\n",
       "<table border=\"1\" class=\"dataframe\">\n",
       "  <thead>\n",
       "    <tr style=\"text-align: right;\">\n",
       "      <th></th>\n",
       "      <th>UserId</th>\n",
       "      <th>ProductId</th>\n",
       "      <th>Rating</th>\n",
       "      <th>Timestamp</th>\n",
       "    </tr>\n",
       "  </thead>\n",
       "  <tbody>\n",
       "  </tbody>\n",
       "</table>\n",
       "</div>"
      ],
      "text/plain": [
       "Empty DataFrame\n",
       "Columns: [UserId, ProductId, Rating, Timestamp]\n",
       "Index: []"
      ]
     },
     "execution_count": 18,
     "metadata": {},
     "output_type": "execute_result"
    }
   ],
   "source": [
    "# check if there's users with no ratings\n",
    "amazon[amazon['Rating']==None]"
   ]
  },
  {
   "cell_type": "code",
   "execution_count": 19,
   "id": "f0730cec",
   "metadata": {},
   "outputs": [
    {
     "data": {
      "text/plain": [
       "A3KEZLJ59C1JVH    389\n",
       "A281NPSIMI1C2R    336\n",
       "A3M174IC0VXOS2    326\n",
       "A2V5R832QCSOMX    278\n",
       "A3LJLRIZL38GG3    276\n",
       "                 ... \n",
       "AFLE9ZCCERY6L       1\n",
       "A2U2AW7L2BU1S       1\n",
       "A2KNQZY2DU4H8I      1\n",
       "A6J6SJ1063P79       1\n",
       "A3MQDRRGC9070R      1\n",
       "Name: UserId, Length: 1210271, dtype: int64"
      ]
     },
     "execution_count": 19,
     "metadata": {},
     "output_type": "execute_result"
    }
   ],
   "source": [
    "amazon['UserId'].value_counts()"
   ]
  },
  {
   "cell_type": "code",
   "execution_count": 30,
   "id": "31aadb99",
   "metadata": {},
   "outputs": [
    {
     "data": {
      "text/plain": [
       "B001MA0QY2    7533\n",
       "B0009V1YR8    2869\n",
       "B0043OYFKU    2477\n",
       "B0000YUXI0    2143\n",
       "B003V265QW    2088\n",
       "              ... \n",
       "B004U81OBC       1\n",
       "B004U7R0EI       1\n",
       "B004U7Q2O2       1\n",
       "B004U7NKRE       1\n",
       "B00LU0LTOU       1\n",
       "Name: ProductId, Length: 249274, dtype: int64"
      ]
     },
     "execution_count": 30,
     "metadata": {},
     "output_type": "execute_result"
    }
   ],
   "source": [
    "amazon['ProductId'].value_counts()"
   ]
  },
  {
   "cell_type": "code",
   "execution_count": 49,
   "id": "742107a8",
   "metadata": {},
   "outputs": [],
   "source": [
    "user_col = amazon.drop(['ProductId','Rating','Timestamp'], axis=1).astype('category')\n",
    "item_col = amazon.drop(['UserId','Rating','Timestamp'], axis=1).astype('category')"
   ]
  },
  {
   "cell_type": "code",
   "execution_count": 74,
   "id": "3a6fc119",
   "metadata": {},
   "outputs": [],
   "source": [
    "# Get distinct users and items\n",
    "distinct_users = user_col['UserId'].unique()\n",
    "distinct_items = item_col['ProductId'].unique()\n",
    "users = pd.DataFrame(distinct_users, columns=['UserId'])\n",
    "items = pd.DataFrame(distinct_items, columns=['ProductId'])"
   ]
  },
  {
   "cell_type": "code",
   "execution_count": 77,
   "id": "48d76b7f",
   "metadata": {},
   "outputs": [],
   "source": [
    "# Build graph\n",
    "graph_builder = PandasGraphBuilder()\n",
    "graph_builder.add_entities(users, 'UserId', 'user')\n",
    "graph_builder.add_entities(items, 'ProductId', 'item')\n",
    "graph_builder.add_binary_relations(amazon, 'UserId','ProductId','purchased')\n",
    "graph_builder.add_binary_relations(amazon, 'ProductId', 'UserId', 'purchased-by')"
   ]
  },
  {
   "cell_type": "code",
   "execution_count": 79,
   "id": "7f943502",
   "metadata": {},
   "outputs": [],
   "source": [
    "g = graph_builder.build()"
   ]
  },
  {
   "cell_type": "code",
   "execution_count": 80,
   "id": "7fd5a137",
   "metadata": {},
   "outputs": [
    {
     "data": {
      "text/plain": [
       "Graph(num_nodes={'item': 249274, 'user': 1210271},\n",
       "      num_edges={('item', 'purchased-by', 'user'): 2023070, ('user', 'purchased', 'item'): 2023070},\n",
       "      metagraph=[('item', 'user', 'purchased-by'), ('user', 'item', 'purchased')])"
      ]
     },
     "execution_count": 80,
     "metadata": {},
     "output_type": "execute_result"
    }
   ],
   "source": [
    "g"
   ]
  },
  {
   "cell_type": "code",
   "execution_count": null,
   "id": "4183447d",
   "metadata": {},
   "outputs": [],
   "source": []
  },
  {
   "cell_type": "code",
   "execution_count": null,
   "id": "48593981",
   "metadata": {},
   "outputs": [],
   "source": []
  }
 ],
 "metadata": {
  "kernelspec": {
   "display_name": "Python 3",
   "language": "python",
   "name": "python3"
  },
  "language_info": {
   "codemirror_mode": {
    "name": "ipython",
    "version": 3
   },
   "file_extension": ".py",
   "mimetype": "text/x-python",
   "name": "python",
   "nbconvert_exporter": "python",
   "pygments_lexer": "ipython3",
   "version": "3.8.8"
  }
 },
 "nbformat": 4,
 "nbformat_minor": 5
}
