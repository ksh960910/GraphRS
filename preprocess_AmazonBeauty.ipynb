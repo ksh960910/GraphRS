{
 "cells": [
  {
   "cell_type": "code",
   "execution_count": 1,
   "id": "0dad4c54",
   "metadata": {},
   "outputs": [
    {
     "name": "stderr",
     "output_type": "stream",
     "text": [
      "Using backend: pytorch\n"
     ]
    }
   ],
   "source": [
    "# built-in imports\n",
    "import os\n",
    "import re\n",
    "import argparse\n",
    "import pickle\n",
    "import sys\n",
    "\n",
    "# third-party imports\n",
    "import pandas as pd\n",
    "import numpy as np\n",
    "import scipy.sparse as ssp\n",
    "import dgl\n",
    "import torch\n",
    "import torchtext\n",
    "\n",
    "# local imports\n",
    "sys.path.insert(0, '../src/pinsage')\n",
    "from builder import PandasGraphBuilder\n",
    "from data_utils import *"
   ]
  },
  {
   "cell_type": "code",
   "execution_count": 3,
   "id": "0085b428",
   "metadata": {},
   "outputs": [],
   "source": [
    "# get directory of data files\n",
    "directory = './amazon_beauty'\n",
    "# get output file path\n",
    "output_path = '../pinsage/processed_beauty.pkl'"
   ]
  },
  {
   "cell_type": "code",
   "execution_count": 6,
   "id": "be76b4f4",
   "metadata": {},
   "outputs": [
    {
     "name": "stdout",
     "output_type": "stream",
     "text": [
      "(2023070, 4)\n"
     ]
    },
    {
     "data": {
      "text/plain": [
       "UserId        object\n",
       "ProductId     object\n",
       "Rating       float64\n",
       "Timestamp      int64\n",
       "dtype: object"
      ]
     },
     "execution_count": 6,
     "metadata": {},
     "output_type": "execute_result"
    }
   ],
   "source": [
    "# Read amazon beauty dataset\n",
    "amazon = pd.read_csv('./amazon_beauty/ratings_Beauty.csv')\n",
    "print(amazon.shape)\n",
    "amazon.dtypes"
   ]
  },
  {
   "cell_type": "code",
   "execution_count": 18,
   "id": "6c05078a",
   "metadata": {},
   "outputs": [
    {
     "data": {
      "text/html": [
       "<div>\n",
       "<style scoped>\n",
       "    .dataframe tbody tr th:only-of-type {\n",
       "        vertical-align: middle;\n",
       "    }\n",
       "\n",
       "    .dataframe tbody tr th {\n",
       "        vertical-align: top;\n",
       "    }\n",
       "\n",
       "    .dataframe thead th {\n",
       "        text-align: right;\n",
       "    }\n",
       "</style>\n",
       "<table border=\"1\" class=\"dataframe\">\n",
       "  <thead>\n",
       "    <tr style=\"text-align: right;\">\n",
       "      <th></th>\n",
       "      <th>UserId</th>\n",
       "      <th>ProductId</th>\n",
       "      <th>Rating</th>\n",
       "      <th>Timestamp</th>\n",
       "    </tr>\n",
       "  </thead>\n",
       "  <tbody>\n",
       "  </tbody>\n",
       "</table>\n",
       "</div>"
      ],
      "text/plain": [
       "Empty DataFrame\n",
       "Columns: [UserId, ProductId, Rating, Timestamp]\n",
       "Index: []"
      ]
     },
     "execution_count": 18,
     "metadata": {},
     "output_type": "execute_result"
    }
   ],
   "source": [
    "# check if there's users with no ratings\n",
    "amazon[amazon['Rating']==None]"
   ]
  },
  {
   "cell_type": "code",
   "execution_count": 19,
   "id": "cc63d954",
   "metadata": {},
   "outputs": [
    {
     "data": {
      "text/plain": [
       "A3KEZLJ59C1JVH    389\n",
       "A281NPSIMI1C2R    336\n",
       "A3M174IC0VXOS2    326\n",
       "A2V5R832QCSOMX    278\n",
       "A3LJLRIZL38GG3    276\n",
       "                 ... \n",
       "AFLE9ZCCERY6L       1\n",
       "A2U2AW7L2BU1S       1\n",
       "A2KNQZY2DU4H8I      1\n",
       "A6J6SJ1063P79       1\n",
       "A3MQDRRGC9070R      1\n",
       "Name: UserId, Length: 1210271, dtype: int64"
      ]
     },
     "execution_count": 19,
     "metadata": {},
     "output_type": "execute_result"
    }
   ],
   "source": [
    "amazon['UserId'].value_counts()"
   ]
  },
  {
   "cell_type": "code",
   "execution_count": 30,
   "id": "ecf47e34",
   "metadata": {},
   "outputs": [
    {
     "data": {
      "text/plain": [
       "B001MA0QY2    7533\n",
       "B0009V1YR8    2869\n",
       "B0043OYFKU    2477\n",
       "B0000YUXI0    2143\n",
       "B003V265QW    2088\n",
       "              ... \n",
       "B004U81OBC       1\n",
       "B004U7R0EI       1\n",
       "B004U7Q2O2       1\n",
       "B004U7NKRE       1\n",
       "B00LU0LTOU       1\n",
       "Name: ProductId, Length: 249274, dtype: int64"
      ]
     },
     "execution_count": 30,
     "metadata": {},
     "output_type": "execute_result"
    }
   ],
   "source": [
    "amazon['ProductId'].value_counts()"
   ]
  },
  {
   "cell_type": "code",
   "execution_count": 49,
   "id": "e00cb1e0",
   "metadata": {},
   "outputs": [],
   "source": [
    "user_col = amazon.drop(['ProductId','Rating','Timestamp'], axis=1).astype('category')\n",
    "item_col = amazon.drop(['UserId','Rating','Timestamp'], axis=1).astype('category')"
   ]
  },
  {
   "cell_type": "code",
   "execution_count": 74,
   "id": "dad7fbe8",
   "metadata": {},
   "outputs": [],
   "source": [
    "# Get distinct users and items\n",
    "distinct_users = user_col['UserId'].unique()\n",
    "distinct_items = item_col['ProductId'].unique()\n",
    "users = pd.DataFrame(distinct_users, columns=['UserId'])\n",
    "items = pd.DataFrame(distinct_items, columns=['ProductId'])"
   ]
  },
  {
   "cell_type": "code",
   "execution_count": 77,
   "id": "eb6faa29",
   "metadata": {},
   "outputs": [],
   "source": [
    "# Build graph\n",
    "graph_builder = PandasGraphBuilder()\n",
    "graph_builder.add_entities(users, 'UserId', 'user')\n",
    "graph_builder.add_entities(items, 'ProductId', 'item')\n",
    "graph_builder.add_binary_relations(amazon, 'UserId','ProductId','purchased')\n",
    "graph_builder.add_binary_relations(amazon, 'ProductId', 'UserId', 'purchased-by')"
   ]
  },
  {
   "cell_type": "code",
   "execution_count": 79,
   "id": "80f7446b",
   "metadata": {},
   "outputs": [],
   "source": [
    "g = graph_builder.build()"
   ]
  },
  {
   "cell_type": "code",
   "execution_count": 80,
   "id": "4d8d2f0a",
   "metadata": {},
   "outputs": [
    {
     "data": {
      "text/plain": [
       "Graph(num_nodes={'item': 249274, 'user': 1210271},\n",
       "      num_edges={('item', 'purchased-by', 'user'): 2023070, ('user', 'purchased', 'item'): 2023070},\n",
       "      metagraph=[('item', 'user', 'purchased-by'), ('user', 'item', 'purchased')])"
      ]
     },
     "execution_count": 80,
     "metadata": {},
     "output_type": "execute_result"
    }
   ],
   "source": [
    "g"
   ]
  },
  {
   "cell_type": "code",
   "execution_count": 82,
   "id": "b7f345dd",
   "metadata": {},
   "outputs": [],
   "source": [
    "# Add user-item edge features\n",
    "g.edges['purchased'].data['rating'] = torch.LongTensor(amazon['Rating'].values)\n",
    "g.edges['purchased'].data['timestamp'] = torch.LongTensor(amazon['Timestamp'].values)\n",
    "g.edges['purchased-by'].data['rating'] = torch.LongTensor(amazon['Rating'].values)\n",
    "g.edges['purchased-by'].data['timestamp'] = torch.LongTensor(amazon['Timestamp'].values)"
   ]
  },
  {
   "cell_type": "code",
   "execution_count": 85,
   "id": "a1d761a5",
   "metadata": {
    "scrolled": true
   },
   "outputs": [
    {
     "name": "stderr",
     "output_type": "stream",
     "text": [
      "/home/sanghun/Stuuddddyyyyyyyyyyyyyyyyyyy/pinsage/data_utils.py:25: UserWarning: `meta` is not specified, inferred from partial data. Please provide `meta` if the result is unexpected.\n",
      "  Before: .apply(func)\n",
      "  After:  .apply(func, meta={'x': 'f8', 'y': 'f8'}) for dataframe result\n",
      "  or:     .apply(func, meta=('x', 'f8'))            for series result\n",
      "  df = df.groupby(user, group_keys=False).apply(train_test_split).compute(scheduler='processes').sort_index()\n"
     ]
    },
    {
     "name": "stdout",
     "output_type": "stream",
     "text": [
      "                 UserId   ProductId  Rating   Timestamp  train_mask  val_mask  \\\n",
      "0        A39HTATAQ9V7YF  0205616461     5.0  1369699200        True     False   \n",
      "899125   A39HTATAQ9V7YF  B002OVV7F0     3.0  1369699200        True     False   \n",
      "969482   A39HTATAQ9V7YF  B0031IH5FQ     5.0  1369699200       False      True   \n",
      "1499680  A39HTATAQ9V7YF  B006GQPZ8E     4.0  1369699200       False     False   \n",
      "\n",
      "         test_mask  \n",
      "0            False  \n",
      "899125       False  \n",
      "969482       False  \n",
      "1499680       True  \n"
     ]
    }
   ],
   "source": [
    "# Train, Test, Validation split by time\n",
    "train_indices, val_indices, test_indices = train_test_split_by_time(amazon, 'Timestamp', 'UserId')"
   ]
  },
  {
   "cell_type": "code",
   "execution_count": 86,
   "id": "9817c743",
   "metadata": {},
   "outputs": [
    {
     "name": "stdout",
     "output_type": "stream",
     "text": [
      "train (1553205,)\n",
      "val (146995,)\n",
      "test (322870,)\n"
     ]
    }
   ],
   "source": [
    "print(\"train\", train_indices.shape)\n",
    "print(\"val\", val_indices.shape)\n",
    "print(\"test\", test_indices.shape)"
   ]
  },
  {
   "cell_type": "code",
   "execution_count": 87,
   "id": "feaa8d64",
   "metadata": {},
   "outputs": [],
   "source": [
    "# Build Train Graph\n",
    "train_g = build_train_graph(g, train_indices, 'user','item','purchased','purchased-by')\n",
    "assert train_g.out_degrees(etype='purchased').min() > 0"
   ]
  },
  {
   "cell_type": "code",
   "execution_count": 88,
   "id": "35f96376",
   "metadata": {},
   "outputs": [
    {
     "data": {
      "text/plain": [
       "Graph(num_nodes={'item': 249274, 'user': 1210271},\n",
       "      num_edges={('item', 'purchased-by', 'user'): 1553205, ('user', 'purchased', 'item'): 1553205},\n",
       "      metagraph=[('item', 'user', 'purchased-by'), ('user', 'item', 'purchased')])"
      ]
     },
     "execution_count": 88,
     "metadata": {},
     "output_type": "execute_result"
    }
   ],
   "source": [
    "train_g"
   ]
  },
  {
   "cell_type": "code",
   "execution_count": 91,
   "id": "5db94515",
   "metadata": {},
   "outputs": [],
   "source": [
    "val_matrix, test_matrix = build_val_test_matrix(g, val_indices, test_indices, 'user','item','purchased')"
   ]
  },
  {
   "cell_type": "code",
   "execution_count": 92,
   "id": "61e58076",
   "metadata": {},
   "outputs": [],
   "source": [
    "dataset = {\n",
    "    'train-graph': train_g,\n",
    "    'val-matrix': val_matrix,\n",
    "    'test-matrix': test_matrix,\n",
    "    'item-texts': None,\n",
    "    'item-images': None,\n",
    "    'user-type': 'user',\n",
    "    'item-type': 'item',\n",
    "    'user-to-item-type': 'purchased',\n",
    "    'item-to-user-type': 'purchased-by',\n",
    "    'timestamp-edge-column': 'timestamp'}"
   ]
  },
  {
   "cell_type": "code",
   "execution_count": 93,
   "id": "ca85b9fb",
   "metadata": {},
   "outputs": [],
   "source": [
    "with open(output_path, 'wb') as f:\n",
    "    pickle.dump(dataset, f)"
   ]
  },
  {
   "cell_type": "code",
   "execution_count": 94,
   "id": "97fe0322",
   "metadata": {},
   "outputs": [
    {
     "name": "stdout",
     "output_type": "stream",
     "text": [
      "{'train-graph': Graph(num_nodes={'item': 249274, 'user': 1210271},\n",
      "      num_edges={('item', 'purchased-by', 'user'): 1553205, ('user', 'purchased', 'item'): 1553205},\n",
      "      metagraph=[('item', 'user', 'purchased-by'), ('user', 'item', 'purchased')]), 'val-matrix': <1210271x249274 sparse matrix of type '<class 'numpy.int64'>'\n",
      "\twith 146995 stored elements in COOrdinate format>, 'test-matrix': <1210271x249274 sparse matrix of type '<class 'numpy.int64'>'\n",
      "\twith 322870 stored elements in COOrdinate format>, 'item-texts': None, 'item-images': None, 'user-type': 'user', 'item-type': 'item', 'user-to-item-type': 'purchased', 'item-to-user-type': 'purchased-by', 'timestamp-edge-column': 'timestamp'}\n"
     ]
    }
   ],
   "source": [
    "with open('processed_beauty.pkl', 'rb') as fr:\n",
    "    data = pickle.load(fr)\n",
    "print(data)"
   ]
  },
  {
   "cell_type": "code",
   "execution_count": null,
   "id": "034f3993",
   "metadata": {},
   "outputs": [],
   "source": []
  }
 ],
 "metadata": {
  "kernelspec": {
   "display_name": "Python 3",
   "language": "python",
   "name": "python3"
  },
  "language_info": {
   "codemirror_mode": {
    "name": "ipython",
    "version": 3
   },
   "file_extension": ".py",
   "mimetype": "text/x-python",
   "name": "python",
   "nbconvert_exporter": "python",
   "pygments_lexer": "ipython3",
   "version": "3.8.8"
  }
 },
 "nbformat": 4,
 "nbformat_minor": 5
}
