{
 "cells": [
  {
   "cell_type": "code",
   "execution_count": 1,
   "metadata": {},
   "outputs": [
    {
     "name": "stderr",
     "output_type": "stream",
     "text": [
      "Using backend: pytorch\n"
     ]
    }
   ],
   "source": [
    "# built-in imports\n",
    "import os\n",
    "import re\n",
    "import argparse\n",
    "import pickle\n",
    "import sys\n",
    "\n",
    "# third-party imports\n",
    "import pandas as pd\n",
    "import numpy as np\n",
    "import scipy.sparse as ssp\n",
    "import dgl\n",
    "import torch\n",
    "import torchtext\n",
    "\n",
    "# local imports\n",
    "sys.path.insert(0, '../src/pinsage')\n",
    "from builder import PandasGraphBuilder\n",
    "from data_utils import *"
   ]
  },
  {
   "cell_type": "code",
   "execution_count": 126,
   "metadata": {},
   "outputs": [],
   "source": [
    "# get directory of data files\n",
    "directory = '../ml-1m'\n",
    "# get output file path\n",
    "output_path = '../pinsage/processed_movielens.pkl'"
   ]
  },
  {
   "cell_type": "code",
   "execution_count": 10,
   "metadata": {},
   "outputs": [],
   "source": [
    "users = []\n",
    "with open(os.path.join(directory, 'users.dat'), encoding='latin1') as f:\n",
    "    # UserID::Gender::Age::Occupation::Zip-code\n",
    "    for l in f:\n",
    "        id_, gender, age, occupation, zip_ = l.strip().split('::')\n",
    "        users.append({\n",
    "            'user_id': int(id_),\n",
    "            'gender': gender,\n",
    "            'age': age,\n",
    "            'occupation': occupation,\n",
    "            'zip': zip_,\n",
    "            })\n",
    "users = pd.DataFrame(users).astype('category')"
   ]
  },
  {
   "cell_type": "code",
   "execution_count": 6,
   "metadata": {},
   "outputs": [
    {
     "data": {
      "text/html": [
       "<div>\n",
       "<style scoped>\n",
       "    .dataframe tbody tr th:only-of-type {\n",
       "        vertical-align: middle;\n",
       "    }\n",
       "\n",
       "    .dataframe tbody tr th {\n",
       "        vertical-align: top;\n",
       "    }\n",
       "\n",
       "    .dataframe thead th {\n",
       "        text-align: right;\n",
       "    }\n",
       "</style>\n",
       "<table border=\"1\" class=\"dataframe\">\n",
       "  <thead>\n",
       "    <tr style=\"text-align: right;\">\n",
       "      <th></th>\n",
       "      <th>user_id</th>\n",
       "      <th>gender</th>\n",
       "      <th>age</th>\n",
       "      <th>occupation</th>\n",
       "      <th>zip</th>\n",
       "    </tr>\n",
       "  </thead>\n",
       "  <tbody>\n",
       "    <tr>\n",
       "      <th>0</th>\n",
       "      <td>1</td>\n",
       "      <td>F</td>\n",
       "      <td>1</td>\n",
       "      <td>10</td>\n",
       "      <td>48067</td>\n",
       "    </tr>\n",
       "    <tr>\n",
       "      <th>1</th>\n",
       "      <td>2</td>\n",
       "      <td>M</td>\n",
       "      <td>56</td>\n",
       "      <td>16</td>\n",
       "      <td>70072</td>\n",
       "    </tr>\n",
       "    <tr>\n",
       "      <th>2</th>\n",
       "      <td>3</td>\n",
       "      <td>M</td>\n",
       "      <td>25</td>\n",
       "      <td>15</td>\n",
       "      <td>55117</td>\n",
       "    </tr>\n",
       "    <tr>\n",
       "      <th>3</th>\n",
       "      <td>4</td>\n",
       "      <td>M</td>\n",
       "      <td>45</td>\n",
       "      <td>7</td>\n",
       "      <td>02460</td>\n",
       "    </tr>\n",
       "    <tr>\n",
       "      <th>4</th>\n",
       "      <td>5</td>\n",
       "      <td>M</td>\n",
       "      <td>25</td>\n",
       "      <td>20</td>\n",
       "      <td>55455</td>\n",
       "    </tr>\n",
       "  </tbody>\n",
       "</table>\n",
       "</div>"
      ],
      "text/plain": [
       "  user_id gender age occupation    zip\n",
       "0       1      F   1         10  48067\n",
       "1       2      M  56         16  70072\n",
       "2       3      M  25         15  55117\n",
       "3       4      M  45          7  02460\n",
       "4       5      M  25         20  55455"
      ]
     },
     "execution_count": 6,
     "metadata": {},
     "output_type": "execute_result"
    }
   ],
   "source": [
    "users.head()"
   ]
  },
  {
   "cell_type": "code",
   "execution_count": 12,
   "metadata": {},
   "outputs": [
    {
     "name": "stdout",
     "output_type": "stream",
     "text": [
      "(6040, 5)\n",
      "user_id       category\n",
      "gender        category\n",
      "age           category\n",
      "occupation    category\n",
      "zip           category\n",
      "dtype: object\n"
     ]
    }
   ],
   "source": [
    "print(users.shape)\n",
    "print(users.dtypes)"
   ]
  },
  {
   "cell_type": "code",
   "execution_count": 14,
   "metadata": {},
   "outputs": [],
   "source": [
    "movies = []\n",
    "with open(os.path.join(directory, 'movies.dat'), encoding='latin1') as f:\n",
    "    for l in f:\n",
    "        # MovieID::Title::Genres\n",
    "        id_, title, genres = l.strip().split('::')\n",
    "        \n",
    "        # get unique genres\n",
    "        genres_set = set(genres.split('|'))\n",
    "\n",
    "        # extract year\n",
    "        assert re.match(r'.*\\([0-9]{4}\\)$', title)\n",
    "        year = title[-5:-1]\n",
    "        title = title[:-6].strip()\n",
    "\n",
    "        data = {'movie_id': int(id_), 'title': title, 'year': year}\n",
    "        for g in genres_set:\n",
    "            data[g] = True\n",
    "        movies.append(data)\n",
    "movies = pd.DataFrame(movies).astype({'year': 'category'})"
   ]
  },
  {
   "cell_type": "code",
   "execution_count": 15,
   "metadata": {},
   "outputs": [
    {
     "data": {
      "text/html": [
       "<div>\n",
       "<style scoped>\n",
       "    .dataframe tbody tr th:only-of-type {\n",
       "        vertical-align: middle;\n",
       "    }\n",
       "\n",
       "    .dataframe tbody tr th {\n",
       "        vertical-align: top;\n",
       "    }\n",
       "\n",
       "    .dataframe thead th {\n",
       "        text-align: right;\n",
       "    }\n",
       "</style>\n",
       "<table border=\"1\" class=\"dataframe\">\n",
       "  <thead>\n",
       "    <tr style=\"text-align: right;\">\n",
       "      <th></th>\n",
       "      <th>movie_id</th>\n",
       "      <th>title</th>\n",
       "      <th>year</th>\n",
       "      <th>Animation</th>\n",
       "      <th>Comedy</th>\n",
       "      <th>Children's</th>\n",
       "      <th>Fantasy</th>\n",
       "      <th>Adventure</th>\n",
       "      <th>Romance</th>\n",
       "      <th>Drama</th>\n",
       "      <th>...</th>\n",
       "      <th>Thriller</th>\n",
       "      <th>Action</th>\n",
       "      <th>Horror</th>\n",
       "      <th>Sci-Fi</th>\n",
       "      <th>Documentary</th>\n",
       "      <th>War</th>\n",
       "      <th>Musical</th>\n",
       "      <th>Mystery</th>\n",
       "      <th>Film-Noir</th>\n",
       "      <th>Western</th>\n",
       "    </tr>\n",
       "  </thead>\n",
       "  <tbody>\n",
       "    <tr>\n",
       "      <th>0</th>\n",
       "      <td>1</td>\n",
       "      <td>Toy Story</td>\n",
       "      <td>1995</td>\n",
       "      <td>True</td>\n",
       "      <td>True</td>\n",
       "      <td>True</td>\n",
       "      <td>NaN</td>\n",
       "      <td>NaN</td>\n",
       "      <td>NaN</td>\n",
       "      <td>NaN</td>\n",
       "      <td>...</td>\n",
       "      <td>NaN</td>\n",
       "      <td>NaN</td>\n",
       "      <td>NaN</td>\n",
       "      <td>NaN</td>\n",
       "      <td>NaN</td>\n",
       "      <td>NaN</td>\n",
       "      <td>NaN</td>\n",
       "      <td>NaN</td>\n",
       "      <td>NaN</td>\n",
       "      <td>NaN</td>\n",
       "    </tr>\n",
       "    <tr>\n",
       "      <th>1</th>\n",
       "      <td>2</td>\n",
       "      <td>Jumanji</td>\n",
       "      <td>1995</td>\n",
       "      <td>NaN</td>\n",
       "      <td>NaN</td>\n",
       "      <td>True</td>\n",
       "      <td>True</td>\n",
       "      <td>True</td>\n",
       "      <td>NaN</td>\n",
       "      <td>NaN</td>\n",
       "      <td>...</td>\n",
       "      <td>NaN</td>\n",
       "      <td>NaN</td>\n",
       "      <td>NaN</td>\n",
       "      <td>NaN</td>\n",
       "      <td>NaN</td>\n",
       "      <td>NaN</td>\n",
       "      <td>NaN</td>\n",
       "      <td>NaN</td>\n",
       "      <td>NaN</td>\n",
       "      <td>NaN</td>\n",
       "    </tr>\n",
       "    <tr>\n",
       "      <th>2</th>\n",
       "      <td>3</td>\n",
       "      <td>Grumpier Old Men</td>\n",
       "      <td>1995</td>\n",
       "      <td>NaN</td>\n",
       "      <td>True</td>\n",
       "      <td>NaN</td>\n",
       "      <td>NaN</td>\n",
       "      <td>NaN</td>\n",
       "      <td>True</td>\n",
       "      <td>NaN</td>\n",
       "      <td>...</td>\n",
       "      <td>NaN</td>\n",
       "      <td>NaN</td>\n",
       "      <td>NaN</td>\n",
       "      <td>NaN</td>\n",
       "      <td>NaN</td>\n",
       "      <td>NaN</td>\n",
       "      <td>NaN</td>\n",
       "      <td>NaN</td>\n",
       "      <td>NaN</td>\n",
       "      <td>NaN</td>\n",
       "    </tr>\n",
       "    <tr>\n",
       "      <th>3</th>\n",
       "      <td>4</td>\n",
       "      <td>Waiting to Exhale</td>\n",
       "      <td>1995</td>\n",
       "      <td>NaN</td>\n",
       "      <td>True</td>\n",
       "      <td>NaN</td>\n",
       "      <td>NaN</td>\n",
       "      <td>NaN</td>\n",
       "      <td>NaN</td>\n",
       "      <td>True</td>\n",
       "      <td>...</td>\n",
       "      <td>NaN</td>\n",
       "      <td>NaN</td>\n",
       "      <td>NaN</td>\n",
       "      <td>NaN</td>\n",
       "      <td>NaN</td>\n",
       "      <td>NaN</td>\n",
       "      <td>NaN</td>\n",
       "      <td>NaN</td>\n",
       "      <td>NaN</td>\n",
       "      <td>NaN</td>\n",
       "    </tr>\n",
       "    <tr>\n",
       "      <th>4</th>\n",
       "      <td>5</td>\n",
       "      <td>Father of the Bride Part II</td>\n",
       "      <td>1995</td>\n",
       "      <td>NaN</td>\n",
       "      <td>True</td>\n",
       "      <td>NaN</td>\n",
       "      <td>NaN</td>\n",
       "      <td>NaN</td>\n",
       "      <td>NaN</td>\n",
       "      <td>NaN</td>\n",
       "      <td>...</td>\n",
       "      <td>NaN</td>\n",
       "      <td>NaN</td>\n",
       "      <td>NaN</td>\n",
       "      <td>NaN</td>\n",
       "      <td>NaN</td>\n",
       "      <td>NaN</td>\n",
       "      <td>NaN</td>\n",
       "      <td>NaN</td>\n",
       "      <td>NaN</td>\n",
       "      <td>NaN</td>\n",
       "    </tr>\n",
       "  </tbody>\n",
       "</table>\n",
       "<p>5 rows × 21 columns</p>\n",
       "</div>"
      ],
      "text/plain": [
       "   movie_id                        title  year Animation Comedy Children's  \\\n",
       "0         1                    Toy Story  1995      True   True       True   \n",
       "1         2                      Jumanji  1995       NaN    NaN       True   \n",
       "2         3             Grumpier Old Men  1995       NaN   True        NaN   \n",
       "3         4            Waiting to Exhale  1995       NaN   True        NaN   \n",
       "4         5  Father of the Bride Part II  1995       NaN   True        NaN   \n",
       "\n",
       "  Fantasy Adventure Romance Drama  ... Thriller Action Horror Sci-Fi  \\\n",
       "0     NaN       NaN     NaN   NaN  ...      NaN    NaN    NaN    NaN   \n",
       "1    True      True     NaN   NaN  ...      NaN    NaN    NaN    NaN   \n",
       "2     NaN       NaN    True   NaN  ...      NaN    NaN    NaN    NaN   \n",
       "3     NaN       NaN     NaN  True  ...      NaN    NaN    NaN    NaN   \n",
       "4     NaN       NaN     NaN   NaN  ...      NaN    NaN    NaN    NaN   \n",
       "\n",
       "  Documentary  War Musical Mystery Film-Noir Western  \n",
       "0         NaN  NaN     NaN     NaN       NaN     NaN  \n",
       "1         NaN  NaN     NaN     NaN       NaN     NaN  \n",
       "2         NaN  NaN     NaN     NaN       NaN     NaN  \n",
       "3         NaN  NaN     NaN     NaN       NaN     NaN  \n",
       "4         NaN  NaN     NaN     NaN       NaN     NaN  \n",
       "\n",
       "[5 rows x 21 columns]"
      ]
     },
     "execution_count": 15,
     "metadata": {},
     "output_type": "execute_result"
    }
   ],
   "source": [
    "movies.head()"
   ]
  },
  {
   "cell_type": "code",
   "execution_count": 16,
   "metadata": {},
   "outputs": [
    {
     "name": "stdout",
     "output_type": "stream",
     "text": [
      "(3883, 21)\n",
      "movie_id          int64\n",
      "title            object\n",
      "year           category\n",
      "Animation        object\n",
      "Comedy           object\n",
      "Children's       object\n",
      "Fantasy          object\n",
      "Adventure        object\n",
      "Romance          object\n",
      "Drama            object\n",
      "Crime            object\n",
      "Thriller         object\n",
      "Action           object\n",
      "Horror           object\n",
      "Sci-Fi           object\n",
      "Documentary      object\n",
      "War              object\n",
      "Musical          object\n",
      "Mystery          object\n",
      "Film-Noir        object\n",
      "Western          object\n",
      "dtype: object\n"
     ]
    }
   ],
   "source": [
    "print(movies.shape)\n",
    "print(movies.dtypes)"
   ]
  },
  {
   "cell_type": "code",
   "execution_count": 17,
   "metadata": {},
   "outputs": [],
   "source": [
    "ratings = []\n",
    "with open(os.path.join(directory, 'ratings.dat'), encoding='latin1') as f:\n",
    "    # UserID::MovieID::Rating::Timestamp\n",
    "    for l in f:\n",
    "        user_id, movie_id, rating, timestamp = [int(_) for _ in l.split('::')]\n",
    "        ratings.append({\n",
    "            'user_id': user_id,\n",
    "            'movie_id': movie_id,\n",
    "            'rating': rating,\n",
    "            'timestamp': timestamp,\n",
    "            })\n",
    "ratings = pd.DataFrame(ratings)"
   ]
  },
  {
   "cell_type": "code",
   "execution_count": 18,
   "metadata": {
    "scrolled": true
   },
   "outputs": [
    {
     "data": {
      "text/html": [
       "<div>\n",
       "<style scoped>\n",
       "    .dataframe tbody tr th:only-of-type {\n",
       "        vertical-align: middle;\n",
       "    }\n",
       "\n",
       "    .dataframe tbody tr th {\n",
       "        vertical-align: top;\n",
       "    }\n",
       "\n",
       "    .dataframe thead th {\n",
       "        text-align: right;\n",
       "    }\n",
       "</style>\n",
       "<table border=\"1\" class=\"dataframe\">\n",
       "  <thead>\n",
       "    <tr style=\"text-align: right;\">\n",
       "      <th></th>\n",
       "      <th>user_id</th>\n",
       "      <th>movie_id</th>\n",
       "      <th>rating</th>\n",
       "      <th>timestamp</th>\n",
       "    </tr>\n",
       "  </thead>\n",
       "  <tbody>\n",
       "    <tr>\n",
       "      <th>0</th>\n",
       "      <td>1</td>\n",
       "      <td>1193</td>\n",
       "      <td>5</td>\n",
       "      <td>978300760</td>\n",
       "    </tr>\n",
       "    <tr>\n",
       "      <th>1</th>\n",
       "      <td>1</td>\n",
       "      <td>661</td>\n",
       "      <td>3</td>\n",
       "      <td>978302109</td>\n",
       "    </tr>\n",
       "    <tr>\n",
       "      <th>2</th>\n",
       "      <td>1</td>\n",
       "      <td>914</td>\n",
       "      <td>3</td>\n",
       "      <td>978301968</td>\n",
       "    </tr>\n",
       "    <tr>\n",
       "      <th>3</th>\n",
       "      <td>1</td>\n",
       "      <td>3408</td>\n",
       "      <td>4</td>\n",
       "      <td>978300275</td>\n",
       "    </tr>\n",
       "    <tr>\n",
       "      <th>4</th>\n",
       "      <td>1</td>\n",
       "      <td>2355</td>\n",
       "      <td>5</td>\n",
       "      <td>978824291</td>\n",
       "    </tr>\n",
       "  </tbody>\n",
       "</table>\n",
       "</div>"
      ],
      "text/plain": [
       "   user_id  movie_id  rating  timestamp\n",
       "0        1      1193       5  978300760\n",
       "1        1       661       3  978302109\n",
       "2        1       914       3  978301968\n",
       "3        1      3408       4  978300275\n",
       "4        1      2355       5  978824291"
      ]
     },
     "execution_count": 18,
     "metadata": {},
     "output_type": "execute_result"
    }
   ],
   "source": [
    "ratings.head()"
   ]
  },
  {
   "cell_type": "code",
   "execution_count": 19,
   "metadata": {},
   "outputs": [
    {
     "name": "stdout",
     "output_type": "stream",
     "text": [
      "(1000209, 4)\n",
      "user_id      int64\n",
      "movie_id     int64\n",
      "rating       int64\n",
      "timestamp    int64\n",
      "dtype: object\n"
     ]
    }
   ],
   "source": [
    "print(ratings.shape)\n",
    "print(ratings.dtypes)"
   ]
  },
  {
   "cell_type": "code",
   "execution_count": 25,
   "metadata": {},
   "outputs": [],
   "source": [
    "# Filter the users and items that never appear in the rating table.\n",
    "distinct_users_in_ratings = ratings['user_id'].unique()\n",
    "distinct_movies_in_ratings = ratings['movie_id'].unique()\n",
    "users = users.copy()[users['user_id'].isin(distinct_users_in_ratings)]\n",
    "movies = movies.copy()[movies['movie_id'].isin(distinct_movies_in_ratings)]"
   ]
  },
  {
   "cell_type": "code",
   "execution_count": 31,
   "metadata": {},
   "outputs": [
    {
     "data": {
      "text/plain": [
       "(6040, 5)"
      ]
     },
     "execution_count": 31,
     "metadata": {},
     "output_type": "execute_result"
    }
   ],
   "source": [
    "users.shape"
   ]
  },
  {
   "cell_type": "code",
   "execution_count": 27,
   "metadata": {},
   "outputs": [
    {
     "data": {
      "text/plain": [
       "(3706, 21)"
      ]
     },
     "execution_count": 27,
     "metadata": {},
     "output_type": "execute_result"
    }
   ],
   "source": [
    "movies.shape"
   ]
  },
  {
   "cell_type": "code",
   "execution_count": 29,
   "metadata": {},
   "outputs": [
    {
     "data": {
      "text/plain": [
       "20"
      ]
     },
     "execution_count": 29,
     "metadata": {},
     "output_type": "execute_result"
    }
   ],
   "source": [
    "ratings['user_id'].value_counts().min()"
   ]
  },
  {
   "cell_type": "code",
   "execution_count": 30,
   "metadata": {},
   "outputs": [
    {
     "data": {
      "text/plain": [
       "1"
      ]
     },
     "execution_count": 30,
     "metadata": {},
     "output_type": "execute_result"
    }
   ],
   "source": [
    "ratings['movie_id'].value_counts().min()"
   ]
  },
  {
   "cell_type": "code",
   "execution_count": 32,
   "metadata": {},
   "outputs": [],
   "source": [
    "genre_columns = movies.columns.drop(['movie_id', 'title', 'year'])\n",
    "# movies에서 genre_columns열에 해당하는 모든 행들에 대해 NAN값을 False로 채워줌\n",
    "movies.loc[:, genre_columns] = movies.loc[:, genre_columns].fillna(False).astype(bool)\n",
    "# title열 제거\n",
    "movies_categorical = movies.drop('title', axis=1)"
   ]
  },
  {
   "cell_type": "code",
   "execution_count": 105,
   "metadata": {},
   "outputs": [],
   "source": [
    "# Build graph\n",
    "graph_builder = PandasGraphBuilder()\n",
    "# add_entities(table, primary key, name for node)\n",
    "graph_builder.add_entities(users, 'user_id', 'user')\n",
    "graph_builder.add_entities(movies_categorical, 'movie_id','movie')\n",
    "graph_builder.add_binary_relations(ratings, 'user_id', 'movie_id', 'watched')\n",
    "graph_builder.add_binary_relations(ratings, 'movie_id', 'user_id', 'watched-by')"
   ]
  },
  {
   "cell_type": "code",
   "execution_count": 106,
   "metadata": {},
   "outputs": [],
   "source": [
    "g = graph_builder.build()"
   ]
  },
  {
   "cell_type": "code",
   "execution_count": 107,
   "metadata": {},
   "outputs": [
    {
     "data": {
      "text/plain": [
       "Graph(num_nodes={'movie': 3706, 'user': 6040},\n",
       "      num_edges={('movie', 'watched-by', 'user'): 1000209, ('user', 'watched', 'movie'): 1000209},\n",
       "      metagraph=[('movie', 'user', 'watched-by'), ('user', 'movie', 'watched')])"
      ]
     },
     "execution_count": 107,
     "metadata": {},
     "output_type": "execute_result"
    }
   ],
   "source": [
    "g"
   ]
  },
  {
   "cell_type": "code",
   "execution_count": 108,
   "metadata": {
    "scrolled": true
   },
   "outputs": [
    {
     "data": {
      "text/plain": [
       "0       0\n",
       "1       1\n",
       "2       1\n",
       "3       1\n",
       "4       1\n",
       "       ..\n",
       "6035    0\n",
       "6036    0\n",
       "6037    0\n",
       "6038    0\n",
       "6039    1\n",
       "Length: 6040, dtype: int8"
      ]
     },
     "execution_count": 108,
     "metadata": {},
     "output_type": "execute_result"
    }
   ],
   "source": [
    "# cat.codes는 Series데이터 중 category형 데이터를 int형으로 mapping 시켜줌\n",
    "users['gender'].cat.codes"
   ]
  },
  {
   "cell_type": "code",
   "execution_count": 109,
   "metadata": {},
   "outputs": [
    {
     "data": {
      "text/plain": [
       "array([0, 1, 1, ..., 0, 0, 1], dtype=int8)"
      ]
     },
     "execution_count": 109,
     "metadata": {},
     "output_type": "execute_result"
    }
   ],
   "source": [
    "# df.values는 행 데이터들을 출력 시켜줌\n",
    "users['gender'].cat.codes.values"
   ]
  },
  {
   "cell_type": "code",
   "execution_count": 110,
   "metadata": {},
   "outputs": [],
   "source": [
    "# Add user node features\n",
    "g.nodes['user'].data['gender'] = torch.LongTensor(users['gender'].cat.codes.values.copy())\n",
    "g.nodes['user'].data['age'] = torch.LongTensor(users['age'].cat.codes.values.copy())\n",
    "g.nodes['user'].data['occupation'] = torch.LongTensor(users['occupation'].cat.codes.values.copy())\n",
    "g.nodes['user'].data['zip'] = torch.LongTensor(users['zip'].cat.codes.values.copy())"
   ]
  },
  {
   "cell_type": "code",
   "execution_count": 111,
   "metadata": {
    "scrolled": true
   },
   "outputs": [
    {
     "data": {
      "text/plain": [
       "array([[ True,  True,  True, ..., False, False, False],\n",
       "       [False, False,  True, ..., False, False, False],\n",
       "       [False,  True, False, ..., False, False, False],\n",
       "       ...,\n",
       "       [False, False, False, ..., False, False, False],\n",
       "       [False, False, False, ..., False, False, False],\n",
       "       [False, False, False, ..., False, False, False]])"
      ]
     },
     "execution_count": 111,
     "metadata": {},
     "output_type": "execute_result"
    }
   ],
   "source": [
    "movies[genre_columns].values"
   ]
  },
  {
   "cell_type": "code",
   "execution_count": 112,
   "metadata": {},
   "outputs": [],
   "source": [
    "# Add movie node features\n",
    "g.nodes['movie'].data['year'] = torch.LongTensor(movies['year'].cat.codes.values.copy())\n",
    "g.nodes['movie'].data['genre'] = torch.FloatTensor(movies[genre_columns].values)"
   ]
  },
  {
   "cell_type": "code",
   "execution_count": 113,
   "metadata": {},
   "outputs": [],
   "source": [
    "# Add user-movie edge features\n",
    "g.edges['watched'].data['rating'] = torch.LongTensor(ratings['rating'].values)\n",
    "g.edges['watched'].data['timestamp'] = torch.LongTensor(ratings['timestamp'].values)\n",
    "g.edges['watched-by'].data['rating'] = torch.LongTensor(ratings['rating'].values)\n",
    "g.edges['watched-by'].data['timestamp'] = torch.LongTensor(ratings['timestamp'].values)"
   ]
  },
  {
   "cell_type": "markdown",
   "metadata": {},
   "source": [
    "## Train, Validation, Split by Time"
   ]
  },
  {
   "cell_type": "code",
   "execution_count": 114,
   "metadata": {
    "scrolled": true
   },
   "outputs": [
    {
     "name": "stderr",
     "output_type": "stream",
     "text": [
      "/home/sanghun/Stuuddddyyyyyyyyyyyyyyyyyyy/pinsage/data_utils.py:25: UserWarning: `meta` is not specified, inferred from partial data. Please provide `meta` if the result is unexpected.\n",
      "  Before: .apply(func)\n",
      "  After:  .apply(func, meta={'x': 'f8', 'y': 'f8'}) for dataframe result\n",
      "  or:     .apply(func, meta=('x', 'f8'))            for series result\n",
      "  df = df.groupby(user, group_keys=False).apply(train_test_split).compute(scheduler='processes').sort_index()\n"
     ]
    },
    {
     "name": "stdout",
     "output_type": "stream",
     "text": [
      "    user_id  movie_id  rating  timestamp  train_mask  val_mask  test_mask\n",
      "31        1      3186       4  978300019        True     False      False\n",
      "27        1      1721       4  978300055        True     False      False\n",
      "37        1      1022       5  978300055        True     False      False\n",
      "22        1      1270       5  978300055        True     False      False\n",
      "24        1      2340       3  978300103        True     False      False\n",
      "36        1      1836       5  978300172        True     False      False\n",
      "3         1      3408       4  978300275        True     False      False\n",
      "47        1      1207       4  978300719        True     False      False\n",
      "7         1      2804       5  978300719        True     False      False\n",
      "21        1       720       3  978300760        True     False      False\n",
      "0         1      1193       5  978300760        True     False      False\n",
      "44        1       260       4  978300760        True     False      False\n",
      "9         1       919       4  978301368        True     False      False\n",
      "51        1       608       4  978301398        True     False      False\n",
      "43        1      2692       4  978301570        True     False      False\n",
      "41        1      1961       5  978301590        True     False      False\n",
      "48        1      2028       5  978301619        True     False      False\n",
      "18        1      3105       5  978301713        True     False      False\n",
      "11        1       938       4  978301752        True     False      False\n",
      "42        1      1962       4  978301753        True     False      False\n",
      "14        1      1035       5  978301753        True     False      False\n",
      "39        1       150       5  978301777        True     False      False\n",
      "17        1      2018       4  978301777        True     False      False\n",
      "45        1      1028       5  978301777        True     False      False\n",
      "26        1      1097       4  978301953        True     False      False\n",
      "2         1       914       3  978301968        True     False      False\n",
      "19        1      2797       4  978302039        True     False      False\n",
      "6         1      1287       5  978302039        True     False      False\n",
      "38        1      2762       4  978302091        True     False      False\n",
      "52        1      1246       4  978302091        True     False      False\n",
      "1         1       661       3  978302109        True     False      False\n",
      "13        1      2918       4  978302124        True     False      False\n",
      "49        1       531       4  978302149        True     False      False\n",
      "50        1      3114       4  978302174        True     False      False\n",
      "15        1      2791       4  978302188        True     False      False\n",
      "46        1      1029       5  978302205        True     False      False\n",
      "20        1      2321       3  978302205        True     False      False\n",
      "5         1      1197       3  978302268        True     False      False\n",
      "8         1       594       4  978302268        True     False      False\n",
      "12        1      2398       4  978302281        True     False      False\n",
      "28        1      1545       4  978824139        True     False      False\n",
      "23        1       527       5  978824195        True     False      False\n",
      "40        1         1       5  978824268        True     False      False\n",
      "33        1       588       4  978824268        True     False      False\n",
      "16        1      2687       3  978824268        True     False      False\n",
      "29        1       745       3  978824268        True     False      False\n",
      "10        1       595       5  978824268        True     False      False\n",
      "30        1      2294       4  978824291        True     False      False\n",
      "35        1       783       4  978824291        True     False      False\n",
      "4         1      2355       5  978824291        True     False      False\n",
      "34        1      1907       4  978824330        True     False      False\n",
      "32        1      1566       4  978824330       False      True      False\n",
      "25        1        48       5  978824351       False     False       True\n"
     ]
    }
   ],
   "source": [
    "train_indices, val_indices, test_indices = train_test_split_by_time(ratings, 'timestamp', 'user_id')"
   ]
  },
  {
   "cell_type": "code",
   "execution_count": 115,
   "metadata": {},
   "outputs": [
    {
     "name": "stdout",
     "output_type": "stream",
     "text": [
      "train (988129,)\n",
      "test (6040,)\n",
      "val (6040,)\n"
     ]
    }
   ],
   "source": [
    "# data_utils.py 에서 train/test/val 비율을 조정 --> 이해 필요\n",
    "print('train', train_indices.shape)\n",
    "print('test', test_indices.shape)\n",
    "print('val', val_indices.shape)"
   ]
  },
  {
   "cell_type": "code",
   "execution_count": 116,
   "metadata": {},
   "outputs": [],
   "source": [
    "# Build Train Graph\n",
    "train_g = build_train_graph(g, train_indices, 'user','movie','watched','watched-by')\n",
    "# 각 노드의 outgoing edge(watched)의 최솟값이 1 이상인지 확인\n",
    "assert train_g.out_degrees(etype='watched').min() > 0"
   ]
  },
  {
   "cell_type": "code",
   "execution_count": 117,
   "metadata": {},
   "outputs": [],
   "source": [
    "val_matrix, test_matrix = build_val_test_matrix(g, val_indices, test_indices, 'user', 'movie', 'watched')"
   ]
  },
  {
   "cell_type": "code",
   "execution_count": 118,
   "metadata": {},
   "outputs": [
    {
     "data": {
      "text/plain": [
       "{'title': array(['Toy Story', 'Jumanji', 'Grumpier Old Men', ..., 'Tigerland',\n",
       "        'Two Family House', 'Contender, The'], dtype=object)}"
      ]
     },
     "execution_count": 118,
     "metadata": {},
     "output_type": "execute_result"
    }
   ],
   "source": [
    "# Text Features\n",
    "movie_textual_dataset = {'title' : movies['title'].values}\n",
    "movie_textual_dataset"
   ]
  },
  {
   "cell_type": "markdown",
   "metadata": {},
   "source": [
    "## Save preprocessed data"
   ]
  },
  {
   "cell_type": "code",
   "execution_count": 119,
   "metadata": {},
   "outputs": [],
   "source": [
    "dataset = {\n",
    "    'train-graph': train_g,\n",
    "    'val-matrix': val_matrix,\n",
    "    'test-matrix': test_matrix,\n",
    "    'item-texts': movie_textual_dataset,\n",
    "    'item-images': None,\n",
    "    'user-type': 'user',\n",
    "    'item-type': 'movie',\n",
    "    'user-to-item-type': 'watched',\n",
    "    'item-to-user-type': 'watched-by',\n",
    "    'timestamp-edge-column': 'timestamp'}"
   ]
  },
  {
   "cell_type": "code",
   "execution_count": 127,
   "metadata": {},
   "outputs": [],
   "source": [
    "# pickle로 graph structure로 변환된 데이터 저장\n",
    "with open(output_path, 'wb') as f:\n",
    "    pickle.dump(dataset, f)"
   ]
  }
 ],
 "metadata": {
  "kernelspec": {
   "display_name": "Python 3",
   "language": "python",
   "name": "python3"
  },
  "language_info": {
   "codemirror_mode": {
    "name": "ipython",
    "version": 3
   },
   "file_extension": ".py",
   "mimetype": "text/x-python",
   "name": "python",
   "nbconvert_exporter": "python",
   "pygments_lexer": "ipython3",
   "version": "3.8.8"
  }
 },
 "nbformat": 4,
 "nbformat_minor": 4
}
